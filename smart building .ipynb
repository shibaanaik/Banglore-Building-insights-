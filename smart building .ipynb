{
 "cells": [
  {
   "cell_type": "code",
   "execution_count": 1,
   "id": "c393156f",
   "metadata": {},
   "outputs": [],
   "source": [
    "import pandas as pd \n",
    "import numpy as np \n",
    "import matplotlib.pyplot as plt\n",
    "import seaborn as sns "
   ]
  },
  {
   "cell_type": "code",
   "execution_count": 2,
   "id": "85740313",
   "metadata": {},
   "outputs": [],
   "source": [
    "df=pd.read_csv('building_data.csv')"
   ]
  },
  {
   "cell_type": "code",
   "execution_count": 3,
   "id": "c113d4a0",
   "metadata": {},
   "outputs": [
    {
     "data": {
      "text/html": [
       "<div>\n",
       "<style scoped>\n",
       "    .dataframe tbody tr th:only-of-type {\n",
       "        vertical-align: middle;\n",
       "    }\n",
       "\n",
       "    .dataframe tbody tr th {\n",
       "        vertical-align: top;\n",
       "    }\n",
       "\n",
       "    .dataframe thead th {\n",
       "        text-align: right;\n",
       "    }\n",
       "</style>\n",
       "<table border=\"1\" class=\"dataframe\">\n",
       "  <thead>\n",
       "    <tr style=\"text-align: right;\">\n",
       "      <th></th>\n",
       "      <th>City</th>\n",
       "      <th>Area</th>\n",
       "      <th>Building_Type</th>\n",
       "      <th>Construction_Year</th>\n",
       "      <th>Number_of_Floors</th>\n",
       "      <th>Energy_Consumption_Per_SqM</th>\n",
       "      <th>Water_Usage_Per_Building</th>\n",
       "      <th>Waste_Recycled_Percentage</th>\n",
       "      <th>Occupancy_Rate</th>\n",
       "      <th>Indoor_Air_Quality</th>\n",
       "      <th>Smart_Devices_Count</th>\n",
       "      <th>Green_Certified</th>\n",
       "      <th>Maintenance_Resolution_Time</th>\n",
       "      <th>Last_Inspection_Date</th>\n",
       "      <th>Building_Status</th>\n",
       "      <th>Maintenance_Priority</th>\n",
       "      <th>Energy_Per_SqM</th>\n",
       "      <th>Number_of_Residents</th>\n",
       "      <th>Electricity_Bill</th>\n",
       "    </tr>\n",
       "  </thead>\n",
       "  <tbody>\n",
       "    <tr>\n",
       "      <th>0</th>\n",
       "      <td>Bangalore</td>\n",
       "      <td>Yelahanka</td>\n",
       "      <td>Residential</td>\n",
       "      <td>1989</td>\n",
       "      <td>12</td>\n",
       "      <td>50.000000</td>\n",
       "      <td>477.681762</td>\n",
       "      <td>48.417266</td>\n",
       "      <td>81.814110</td>\n",
       "      <td>13.780635</td>\n",
       "      <td>6</td>\n",
       "      <td>0</td>\n",
       "      <td>7.211768</td>\n",
       "      <td>25-09-2023</td>\n",
       "      <td>Under Maintenance</td>\n",
       "      <td>High</td>\n",
       "      <td>174.835708</td>\n",
       "      <td>360</td>\n",
       "      <td>16408.008770</td>\n",
       "    </tr>\n",
       "    <tr>\n",
       "      <th>1</th>\n",
       "      <td>Bangalore</td>\n",
       "      <td>Whitefield</td>\n",
       "      <td>Institutional</td>\n",
       "      <td>1980</td>\n",
       "      <td>6</td>\n",
       "      <td>225.759107</td>\n",
       "      <td>200.000000</td>\n",
       "      <td>46.405516</td>\n",
       "      <td>45.109000</td>\n",
       "      <td>10.177771</td>\n",
       "      <td>10</td>\n",
       "      <td>0</td>\n",
       "      <td>34.139492</td>\n",
       "      <td>18-05-2024</td>\n",
       "      <td>Under Maintenance</td>\n",
       "      <td>High</td>\n",
       "      <td>143.086785</td>\n",
       "      <td>91</td>\n",
       "      <td>15230.425070</td>\n",
       "    </tr>\n",
       "    <tr>\n",
       "      <th>2</th>\n",
       "      <td>Bangalore</td>\n",
       "      <td>Koramangala</td>\n",
       "      <td>Industrial</td>\n",
       "      <td>2006</td>\n",
       "      <td>10</td>\n",
       "      <td>98.755927</td>\n",
       "      <td>200.000000</td>\n",
       "      <td>17.247585</td>\n",
       "      <td>48.526225</td>\n",
       "      <td>27.757026</td>\n",
       "      <td>2</td>\n",
       "      <td>1</td>\n",
       "      <td>6.224612</td>\n",
       "      <td>28-09-2023</td>\n",
       "      <td>Operational</td>\n",
       "      <td>Medium</td>\n",
       "      <td>182.384427</td>\n",
       "      <td>115</td>\n",
       "      <td>8117.632795</td>\n",
       "    </tr>\n",
       "    <tr>\n",
       "      <th>3</th>\n",
       "      <td>Bangalore</td>\n",
       "      <td>Jayanagar</td>\n",
       "      <td>Commercial</td>\n",
       "      <td>1985</td>\n",
       "      <td>1</td>\n",
       "      <td>68.470692</td>\n",
       "      <td>200.000000</td>\n",
       "      <td>57.719480</td>\n",
       "      <td>76.335921</td>\n",
       "      <td>1.519812</td>\n",
       "      <td>2</td>\n",
       "      <td>0</td>\n",
       "      <td>5.327398</td>\n",
       "      <td>17-10-2022</td>\n",
       "      <td>Closed</td>\n",
       "      <td>Low</td>\n",
       "      <td>226.151493</td>\n",
       "      <td>159</td>\n",
       "      <td>13030.707160</td>\n",
       "    </tr>\n",
       "    <tr>\n",
       "      <th>4</th>\n",
       "      <td>Bangalore</td>\n",
       "      <td>HSR Layout</td>\n",
       "      <td>Industrial</td>\n",
       "      <td>2006</td>\n",
       "      <td>12</td>\n",
       "      <td>50.000000</td>\n",
       "      <td>347.093644</td>\n",
       "      <td>26.936862</td>\n",
       "      <td>96.511319</td>\n",
       "      <td>1.874753</td>\n",
       "      <td>19</td>\n",
       "      <td>0</td>\n",
       "      <td>7.060854</td>\n",
       "      <td>25-04-2024</td>\n",
       "      <td>Closed</td>\n",
       "      <td>Medium</td>\n",
       "      <td>138.292331</td>\n",
       "      <td>258</td>\n",
       "      <td>25848.853740</td>\n",
       "    </tr>\n",
       "  </tbody>\n",
       "</table>\n",
       "</div>"
      ],
      "text/plain": [
       "        City         Area  Building_Type  Construction_Year  Number_of_Floors  \\\n",
       "0  Bangalore    Yelahanka    Residential               1989                12   \n",
       "1  Bangalore   Whitefield  Institutional               1980                 6   \n",
       "2  Bangalore  Koramangala     Industrial               2006                10   \n",
       "3  Bangalore    Jayanagar     Commercial               1985                 1   \n",
       "4  Bangalore   HSR Layout     Industrial               2006                12   \n",
       "\n",
       "   Energy_Consumption_Per_SqM  Water_Usage_Per_Building  \\\n",
       "0                   50.000000                477.681762   \n",
       "1                  225.759107                200.000000   \n",
       "2                   98.755927                200.000000   \n",
       "3                   68.470692                200.000000   \n",
       "4                   50.000000                347.093644   \n",
       "\n",
       "   Waste_Recycled_Percentage  Occupancy_Rate  Indoor_Air_Quality  \\\n",
       "0                  48.417266       81.814110           13.780635   \n",
       "1                  46.405516       45.109000           10.177771   \n",
       "2                  17.247585       48.526225           27.757026   \n",
       "3                  57.719480       76.335921            1.519812   \n",
       "4                  26.936862       96.511319            1.874753   \n",
       "\n",
       "   Smart_Devices_Count  Green_Certified  Maintenance_Resolution_Time  \\\n",
       "0                    6                0                     7.211768   \n",
       "1                   10                0                    34.139492   \n",
       "2                    2                1                     6.224612   \n",
       "3                    2                0                     5.327398   \n",
       "4                   19                0                     7.060854   \n",
       "\n",
       "  Last_Inspection_Date    Building_Status Maintenance_Priority  \\\n",
       "0           25-09-2023  Under Maintenance                 High   \n",
       "1           18-05-2024  Under Maintenance                 High   \n",
       "2           28-09-2023        Operational               Medium   \n",
       "3           17-10-2022             Closed                  Low   \n",
       "4           25-04-2024             Closed               Medium   \n",
       "\n",
       "   Energy_Per_SqM  Number_of_Residents  Electricity_Bill  \n",
       "0      174.835708                  360      16408.008770  \n",
       "1      143.086785                   91      15230.425070  \n",
       "2      182.384427                  115       8117.632795  \n",
       "3      226.151493                  159      13030.707160  \n",
       "4      138.292331                  258      25848.853740  "
      ]
     },
     "execution_count": 3,
     "metadata": {},
     "output_type": "execute_result"
    }
   ],
   "source": [
    "df.head()"
   ]
  },
  {
   "cell_type": "code",
   "execution_count": 4,
   "id": "e42ec0af",
   "metadata": {},
   "outputs": [
    {
     "data": {
      "text/plain": [
       "(1250, 19)"
      ]
     },
     "execution_count": 4,
     "metadata": {},
     "output_type": "execute_result"
    }
   ],
   "source": [
    "df.shape"
   ]
  },
  {
   "cell_type": "code",
   "execution_count": 5,
   "id": "84fcf79e",
   "metadata": {},
   "outputs": [
    {
     "name": "stdout",
     "output_type": "stream",
     "text": [
      "<class 'pandas.core.frame.DataFrame'>\n",
      "RangeIndex: 1250 entries, 0 to 1249\n",
      "Data columns (total 19 columns):\n",
      " #   Column                       Non-Null Count  Dtype  \n",
      "---  ------                       --------------  -----  \n",
      " 0   City                         1250 non-null   object \n",
      " 1   Area                         1250 non-null   object \n",
      " 2   Building_Type                1250 non-null   object \n",
      " 3   Construction_Year            1250 non-null   int64  \n",
      " 4   Number_of_Floors             1250 non-null   int64  \n",
      " 5   Energy_Consumption_Per_SqM   1250 non-null   float64\n",
      " 6   Water_Usage_Per_Building     1250 non-null   float64\n",
      " 7   Waste_Recycled_Percentage    1250 non-null   float64\n",
      " 8   Occupancy_Rate               1250 non-null   float64\n",
      " 9   Indoor_Air_Quality           1250 non-null   float64\n",
      " 10  Smart_Devices_Count          1250 non-null   int64  \n",
      " 11  Green_Certified              1250 non-null   int64  \n",
      " 12  Maintenance_Resolution_Time  1250 non-null   float64\n",
      " 13  Last_Inspection_Date         1250 non-null   object \n",
      " 14  Building_Status              1250 non-null   object \n",
      " 15  Maintenance_Priority         1250 non-null   object \n",
      " 16  Energy_Per_SqM               1250 non-null   float64\n",
      " 17  Number_of_Residents          1250 non-null   int64  \n",
      " 18  Electricity_Bill             1250 non-null   float64\n",
      "dtypes: float64(8), int64(5), object(6)\n",
      "memory usage: 185.7+ KB\n"
     ]
    }
   ],
   "source": [
    "df.info()"
   ]
  },
  {
   "cell_type": "code",
   "execution_count": 6,
   "id": "6ff7339d",
   "metadata": {},
   "outputs": [
    {
     "data": {
      "text/html": [
       "<div>\n",
       "<style scoped>\n",
       "    .dataframe tbody tr th:only-of-type {\n",
       "        vertical-align: middle;\n",
       "    }\n",
       "\n",
       "    .dataframe tbody tr th {\n",
       "        vertical-align: top;\n",
       "    }\n",
       "\n",
       "    .dataframe thead th {\n",
       "        text-align: right;\n",
       "    }\n",
       "</style>\n",
       "<table border=\"1\" class=\"dataframe\">\n",
       "  <thead>\n",
       "    <tr style=\"text-align: right;\">\n",
       "      <th></th>\n",
       "      <th>Construction_Year</th>\n",
       "      <th>Number_of_Floors</th>\n",
       "      <th>Energy_Consumption_Per_SqM</th>\n",
       "      <th>Water_Usage_Per_Building</th>\n",
       "      <th>Waste_Recycled_Percentage</th>\n",
       "      <th>Occupancy_Rate</th>\n",
       "      <th>Indoor_Air_Quality</th>\n",
       "      <th>Smart_Devices_Count</th>\n",
       "      <th>Green_Certified</th>\n",
       "      <th>Maintenance_Resolution_Time</th>\n",
       "      <th>Energy_Per_SqM</th>\n",
       "      <th>Number_of_Residents</th>\n",
       "      <th>Electricity_Bill</th>\n",
       "    </tr>\n",
       "  </thead>\n",
       "  <tbody>\n",
       "    <tr>\n",
       "      <th>count</th>\n",
       "      <td>1250.000000</td>\n",
       "      <td>1250.000000</td>\n",
       "      <td>1250.000000</td>\n",
       "      <td>1250.000000</td>\n",
       "      <td>1250.000000</td>\n",
       "      <td>1250.000000</td>\n",
       "      <td>1250.000000</td>\n",
       "      <td>1250.000000</td>\n",
       "      <td>1250.000000</td>\n",
       "      <td>1250.000000</td>\n",
       "      <td>1250.000000</td>\n",
       "      <td>1250.000000</td>\n",
       "      <td>1250.000000</td>\n",
       "    </tr>\n",
       "    <tr>\n",
       "      <th>mean</th>\n",
       "      <td>1996.735200</td>\n",
       "      <td>7.118400</td>\n",
       "      <td>108.745712</td>\n",
       "      <td>647.021156</td>\n",
       "      <td>28.831580</td>\n",
       "      <td>77.285182</td>\n",
       "      <td>40.517956</td>\n",
       "      <td>5.244000</td>\n",
       "      <td>0.237600</td>\n",
       "      <td>9.617933</td>\n",
       "      <td>152.156367</td>\n",
       "      <td>251.764800</td>\n",
       "      <td>15089.459765</td>\n",
       "    </tr>\n",
       "    <tr>\n",
       "      <th>std</th>\n",
       "      <td>15.696515</td>\n",
       "      <td>3.773456</td>\n",
       "      <td>72.180593</td>\n",
       "      <td>485.194992</td>\n",
       "      <td>16.250126</td>\n",
       "      <td>15.093523</td>\n",
       "      <td>33.705393</td>\n",
       "      <td>3.248524</td>\n",
       "      <td>0.425783</td>\n",
       "      <td>6.874172</td>\n",
       "      <td>48.567837</td>\n",
       "      <td>144.082406</td>\n",
       "      <td>4974.536190</td>\n",
       "    </tr>\n",
       "    <tr>\n",
       "      <th>min</th>\n",
       "      <td>1970.000000</td>\n",
       "      <td>1.000000</td>\n",
       "      <td>50.000000</td>\n",
       "      <td>200.000000</td>\n",
       "      <td>0.908321</td>\n",
       "      <td>17.600798</td>\n",
       "      <td>0.034526</td>\n",
       "      <td>1.000000</td>\n",
       "      <td>0.000000</td>\n",
       "      <td>5.000417</td>\n",
       "      <td>50.000000</td>\n",
       "      <td>1.000000</td>\n",
       "      <td>2000.000000</td>\n",
       "    </tr>\n",
       "    <tr>\n",
       "      <th>25%</th>\n",
       "      <td>1983.000000</td>\n",
       "      <td>4.000000</td>\n",
       "      <td>50.000000</td>\n",
       "      <td>200.000000</td>\n",
       "      <td>15.948639</td>\n",
       "      <td>68.047227</td>\n",
       "      <td>11.661954</td>\n",
       "      <td>3.000000</td>\n",
       "      <td>0.000000</td>\n",
       "      <td>5.942027</td>\n",
       "      <td>118.117412</td>\n",
       "      <td>127.250000</td>\n",
       "      <td>11690.482925</td>\n",
       "    </tr>\n",
       "    <tr>\n",
       "      <th>50%</th>\n",
       "      <td>1996.000000</td>\n",
       "      <td>7.000000</td>\n",
       "      <td>72.868797</td>\n",
       "      <td>451.638391</td>\n",
       "      <td>26.828853</td>\n",
       "      <td>80.355416</td>\n",
       "      <td>29.959019</td>\n",
       "      <td>5.000000</td>\n",
       "      <td>0.000000</td>\n",
       "      <td>7.607172</td>\n",
       "      <td>152.234583</td>\n",
       "      <td>261.000000</td>\n",
       "      <td>15148.928890</td>\n",
       "    </tr>\n",
       "    <tr>\n",
       "      <th>75%</th>\n",
       "      <td>2010.000000</td>\n",
       "      <td>11.000000</td>\n",
       "      <td>154.658612</td>\n",
       "      <td>1013.701569</td>\n",
       "      <td>39.807403</td>\n",
       "      <td>88.977348</td>\n",
       "      <td>66.641693</td>\n",
       "      <td>7.000000</td>\n",
       "      <td>0.000000</td>\n",
       "      <td>10.514598</td>\n",
       "      <td>183.061704</td>\n",
       "      <td>375.750000</td>\n",
       "      <td>18471.215980</td>\n",
       "    </tr>\n",
       "    <tr>\n",
       "      <th>max</th>\n",
       "      <td>2023.000000</td>\n",
       "      <td>13.000000</td>\n",
       "      <td>250.000000</td>\n",
       "      <td>1500.000000</td>\n",
       "      <td>80.886835</td>\n",
       "      <td>99.923707</td>\n",
       "      <td>100.000000</td>\n",
       "      <td>20.000000</td>\n",
       "      <td>1.000000</td>\n",
       "      <td>72.000000</td>\n",
       "      <td>300.000000</td>\n",
       "      <td>498.000000</td>\n",
       "      <td>33887.449880</td>\n",
       "    </tr>\n",
       "  </tbody>\n",
       "</table>\n",
       "</div>"
      ],
      "text/plain": [
       "       Construction_Year  Number_of_Floors  Energy_Consumption_Per_SqM  \\\n",
       "count        1250.000000       1250.000000                 1250.000000   \n",
       "mean         1996.735200          7.118400                  108.745712   \n",
       "std            15.696515          3.773456                   72.180593   \n",
       "min          1970.000000          1.000000                   50.000000   \n",
       "25%          1983.000000          4.000000                   50.000000   \n",
       "50%          1996.000000          7.000000                   72.868797   \n",
       "75%          2010.000000         11.000000                  154.658612   \n",
       "max          2023.000000         13.000000                  250.000000   \n",
       "\n",
       "       Water_Usage_Per_Building  Waste_Recycled_Percentage  Occupancy_Rate  \\\n",
       "count               1250.000000                1250.000000     1250.000000   \n",
       "mean                 647.021156                  28.831580       77.285182   \n",
       "std                  485.194992                  16.250126       15.093523   \n",
       "min                  200.000000                   0.908321       17.600798   \n",
       "25%                  200.000000                  15.948639       68.047227   \n",
       "50%                  451.638391                  26.828853       80.355416   \n",
       "75%                 1013.701569                  39.807403       88.977348   \n",
       "max                 1500.000000                  80.886835       99.923707   \n",
       "\n",
       "       Indoor_Air_Quality  Smart_Devices_Count  Green_Certified  \\\n",
       "count         1250.000000          1250.000000      1250.000000   \n",
       "mean            40.517956             5.244000         0.237600   \n",
       "std             33.705393             3.248524         0.425783   \n",
       "min              0.034526             1.000000         0.000000   \n",
       "25%             11.661954             3.000000         0.000000   \n",
       "50%             29.959019             5.000000         0.000000   \n",
       "75%             66.641693             7.000000         0.000000   \n",
       "max            100.000000            20.000000         1.000000   \n",
       "\n",
       "       Maintenance_Resolution_Time  Energy_Per_SqM  Number_of_Residents  \\\n",
       "count                  1250.000000     1250.000000          1250.000000   \n",
       "mean                      9.617933      152.156367           251.764800   \n",
       "std                       6.874172       48.567837           144.082406   \n",
       "min                       5.000417       50.000000             1.000000   \n",
       "25%                       5.942027      118.117412           127.250000   \n",
       "50%                       7.607172      152.234583           261.000000   \n",
       "75%                      10.514598      183.061704           375.750000   \n",
       "max                      72.000000      300.000000           498.000000   \n",
       "\n",
       "       Electricity_Bill  \n",
       "count       1250.000000  \n",
       "mean       15089.459765  \n",
       "std         4974.536190  \n",
       "min         2000.000000  \n",
       "25%        11690.482925  \n",
       "50%        15148.928890  \n",
       "75%        18471.215980  \n",
       "max        33887.449880  "
      ]
     },
     "execution_count": 6,
     "metadata": {},
     "output_type": "execute_result"
    }
   ],
   "source": [
    "df.describe()"
   ]
  },
  {
   "cell_type": "code",
   "execution_count": 7,
   "id": "48ce76fe",
   "metadata": {},
   "outputs": [
    {
     "data": {
      "text/plain": [
       "City                           0\n",
       "Area                           0\n",
       "Building_Type                  0\n",
       "Construction_Year              0\n",
       "Number_of_Floors               0\n",
       "Energy_Consumption_Per_SqM     0\n",
       "Water_Usage_Per_Building       0\n",
       "Waste_Recycled_Percentage      0\n",
       "Occupancy_Rate                 0\n",
       "Indoor_Air_Quality             0\n",
       "Smart_Devices_Count            0\n",
       "Green_Certified                0\n",
       "Maintenance_Resolution_Time    0\n",
       "Last_Inspection_Date           0\n",
       "Building_Status                0\n",
       "Maintenance_Priority           0\n",
       "Energy_Per_SqM                 0\n",
       "Number_of_Residents            0\n",
       "Electricity_Bill               0\n",
       "dtype: int64"
      ]
     },
     "execution_count": 7,
     "metadata": {},
     "output_type": "execute_result"
    }
   ],
   "source": [
    "df.isnull().sum()"
   ]
  },
  {
   "cell_type": "code",
   "execution_count": 8,
   "id": "bc88e8b3",
   "metadata": {},
   "outputs": [
    {
     "data": {
      "text/plain": [
       "Building_Type\n",
       "Industrial       327\n",
       "Institutional    316\n",
       "Residential      304\n",
       "Commercial       303\n",
       "Name: count, dtype: int64"
      ]
     },
     "execution_count": 8,
     "metadata": {},
     "output_type": "execute_result"
    }
   ],
   "source": [
    "#What are the different building types and their counts?\n",
    "df['Building_Type'].value_counts()"
   ]
  },
  {
   "cell_type": "code",
   "execution_count": 9,
   "id": "93d9ecd1",
   "metadata": {},
   "outputs": [
    {
     "data": {
      "text/plain": [
       "<Axes: xlabel='Building_Type', ylabel='count'>"
      ]
     },
     "execution_count": 9,
     "metadata": {},
     "output_type": "execute_result"
    },
    {
     "data": {
      "image/png": "[encoded data removed]",
      "text/plain": [
       "<Figure size 640x480 with 1 Axes>"
      ]
     },
     "metadata": {},
     "output_type": "display_data"
    }
   ],
   "source": [
    "sns.countplot(data=df,x='Building_Type')"
   ]
  },
  {
   "cell_type": "code",
   "execution_count": 10,
   "id": "b4d2c866",
   "metadata": {},
   "outputs": [
    {
     "data": {
      "image/png": "[encoded data removed]",
      "text/plain": [
       "<Figure size 1000x500 with 1 Axes>"
      ]
     },
     "metadata": {},
     "output_type": "display_data"
    }
   ],
   "source": [
    "#What’s the distribution of construction years? Are most buildings recent or old?\n",
    "plt.figure(figsize=(10, 5))\n",
    "sns.histplot(df['Construction_Year'], bins=20, kde=True, color='skyblue')\n",
    "plt.title('Distribution of Construction Years')\n",
    "plt.xlabel('Year of Construction')\n",
    "plt.ylabel('Number of Buildings')\n",
    "plt.grid(True)\n",
    "plt.show()"
   ]
  },
  {
   "cell_type": "markdown",
   "id": "1bbcf055",
   "metadata": {},
   "source": [
    "Most buildings were constructed in the 2010s decade, with the peak around 2018–2020.\n",
    "\n",
    "The 1970s and 1980s also had a relatively high number of constructions, especially around 1975 and 1980."
   ]
  },
  {
   "cell_type": "markdown",
   "id": "8b7be64b",
   "metadata": {},
   "source": [
    "Most buildings in the dataset are recent, especially built in the 2010s and early 2020s."
   ]
  },
  {
   "cell_type": "code",
   "execution_count": 18,
   "id": "7f3c3574",
   "metadata": {},
   "outputs": [
    {
     "data": {
      "text/plain": [
       "Index(['City', 'Area', 'Building_Type', 'Construction_Year',\n",
       "       'Number_of_Floors', 'Energy_Consumption_Per_SqM',\n",
       "       'Water_Usage_Per_Building', 'Waste_Recycled_Percentage',\n",
       "       'Occupancy_Rate', 'Indoor_Air_Quality', 'Smart_Devices_Count',\n",
       "       'Green_Certified', 'Maintenance_Resolution_Time',\n",
       "       'Last_Inspection_Date', 'Building_Status', 'Maintenance_Priority',\n",
       "       'Energy_Per_SqM', 'Number_of_Residents', 'Electricity_Bill'],\n",
       "      dtype='object')"
      ]
     },
     "execution_count": 18,
     "metadata": {},
     "output_type": "execute_result"
    }
   ],
   "source": [
    "df.columns"
   ]
  },
  {
   "cell_type": "code",
   "execution_count": 19,
   "id": "86fa6474",
   "metadata": {},
   "outputs": [
    {
     "data": {
      "text/plain": [
       "Green_Certified\n",
       "0    953\n",
       "1    297\n",
       "Name: count, dtype: int64"
      ]
     },
     "execution_count": 19,
     "metadata": {},
     "output_type": "execute_result"
    }
   ],
   "source": [
    "#How many buildings are green certified vs. non-certified?\n",
    "df['Green_Certified'].value_counts()"
   ]
  },
  {
   "cell_type": "markdown",
   "id": "92452be3",
   "metadata": {},
   "source": [
    "means 297 buildings are green certified "
   ]
  },
  {
   "cell_type": "code",
   "execution_count": 46,
   "id": "b1329cb7",
   "metadata": {},
   "outputs": [
    {
     "name": "stdout",
     "output_type": "stream",
     "text": [
      "Area          Building_Type\n",
      "Indiranagar   Residential      136.570900\n",
      "Hebbal        Commercial       135.508328\n",
      "Jayanagar     Institutional    131.228415\n",
      "Malleshwaram  Residential      126.906625\n",
      "Hebbal        Industrial       125.904552\n",
      "Banashankari  Residential      125.760475\n",
      "Yelahanka     Industrial       123.521892\n",
      "Jayanagar     Residential      120.851725\n",
      "Whitefield    Institutional    120.184754\n",
      "Banashankari  Commercial       120.120246\n",
      "Name: Energy_Consumption_Per_SqM, dtype: float64\n"
     ]
    }
   ],
   "source": [
    "#which top 10 area consume more energy based on its building type\n",
    "area_energy=df.groupby(['Area','Building_Type'])['Energy_Consumption_Per_SqM'].mean().sort_values(ascending=False).head(10)\n",
    "print(area_energy)"
   ]
  },
  {
   "cell_type": "code",
   "execution_count": 48,
   "id": "cce33474",
   "metadata": {},
   "outputs": [
    {
     "data": {
      "image/png": "[encoded data removed]",
      "text/plain": [
       "<Figure size 640x480 with 1 Axes>"
      ]
     },
     "metadata": {},
     "output_type": "display_data"
    }
   ],
   "source": [
    "area_energy.plot(kind='bar',color='green',edgecolor='black')\n",
    "plt.title('Energy consumption by area and building types ')\n",
    "plt.xlabel('Area & Building_type')\n",
    "plt.ylabel('avg_energy_consumed')\n",
    "plt.show()"
   ]
  },
  {
   "cell_type": "markdown",
   "id": "fdf0c8f1",
   "metadata": {},
   "source": [
    "Indiranagar's residential area consumed the most enery "
   ]
  },
  {
   "cell_type": "markdown",
   "id": "377fbce5",
   "metadata": {},
   "source": [
    "# Energy Analysis"
   ]
  },
  {
   "cell_type": "code",
   "execution_count": 22,
   "id": "b22f9831",
   "metadata": {},
   "outputs": [
    {
     "data": {
      "text/plain": [
       "np.float64(108.75)"
      ]
     },
     "execution_count": 22,
     "metadata": {},
     "output_type": "execute_result"
    }
   ],
   "source": [
    "#What is the average energy consumption per square meter.\n",
    "df['Energy_Consumption_Per_SqM'].mean().round(2)"
   ]
  },
  {
   "cell_type": "markdown",
   "id": "091db221",
   "metadata": {},
   "source": [
    "means 108 joule is consumed per square kilometer ."
   ]
  },
  {
   "cell_type": "code",
   "execution_count": 27,
   "id": "d7e8e4e0",
   "metadata": {},
   "outputs": [
    {
     "name": "stdout",
     "output_type": "stream",
     "text": [
      "Building_Type\n",
      "Residential      111.063413\n",
      "Commercial       109.363739\n",
      "Industrial       108.528832\n",
      "Institutional    106.147853\n",
      "Name: Energy_Consumption_Per_SqM, dtype: float64\n"
     ]
    }
   ],
   "source": [
    "#Which building type consumes the most energy per square meter?\n",
    "building=df.groupby('Building_Type')['Energy_Consumption_Per_SqM'].mean().sort_values(ascending=False)\n",
    "print (building)"
   ]
  },
  {
   "cell_type": "code",
   "execution_count": 31,
   "id": "f5262186",
   "metadata": {},
   "outputs": [
    {
     "data": {
      "image/png": "[encoded data removed]",
      "text/plain": [
       "<Figure size 640x480 with 1 Axes>"
      ]
     },
     "metadata": {},
     "output_type": "display_data"
    }
   ],
   "source": [
    "building.plot(kind='bar',color='red',edgecolor='black')\n",
    "plt.title('Energy consumption by building types')\n",
    "plt.xlabel('Building_type')\n",
    "plt.ylabel('avg_energy_consumed')\n",
    "plt.show()"
   ]
  },
  {
   "cell_type": "markdown",
   "id": "925155c5",
   "metadata": {},
   "source": [
    "residental consume more energy then others building type"
   ]
  },
  {
   "cell_type": "code",
   "execution_count": 49,
   "id": "1e255d19",
   "metadata": {},
   "outputs": [
    {
     "data": {
      "text/plain": [
       "np.float64(-0.02709083101649767)"
      ]
     },
     "execution_count": 49,
     "metadata": {},
     "output_type": "execute_result"
    }
   ],
   "source": [
    "#What’s the correlation between Energy_Consumption_Per_SqM and Electricity_Bill?\n",
    "df['Energy_Consumption_Per_SqM'].corr(df['Electricity_Bill'])"
   ]
  },
  {
   "cell_type": "markdown",
   "id": "8e55af13",
   "metadata": {},
   "source": [
    "Electricity bills don’t rise proportionally with energy consumption per square meter.\n",
    "\n",
    "Other factors (like total building size, energy pricing, smart devices, or billing policy) might affect the bill more than per sqm usage."
   ]
  },
  {
   "cell_type": "code",
   "execution_count": 51,
   "id": "fec7b9b5",
   "metadata": {},
   "outputs": [
    {
     "data": {
      "text/plain": [
       "Building_Type\n",
       "Commercial       209\n",
       "Industrial       654\n",
       "Institutional    847\n",
       "Residential      478\n",
       "Name: Energy_Per_SqM, dtype: int64"
      ]
     },
     "execution_count": 51,
     "metadata": {},
     "output_type": "execute_result"
    }
   ],
   "source": [
    "#Which buildings have the highest and lowest Energy_Per_SqM? What’s special about them?\n",
    "df.groupby('Building_Type')['Energy_Per_SqM'].idxmax()"
   ]
  },
  {
   "cell_type": "markdown",
   "id": "70595e7e",
   "metadata": {},
   "source": [
    "# Water & Waste"
   ]
  },
  {
   "cell_type": "code",
   "execution_count": 54,
   "id": "d9dee70c",
   "metadata": {},
   "outputs": [
    {
     "data": {
      "text/plain": [
       "Area\n",
       "Indiranagar        698.759072\n",
       "Whitefield         687.987909\n",
       "Banashankari       673.419286\n",
       "Jayanagar          668.610439\n",
       "Electronic City    667.414857\n",
       "Yelahanka          644.339511\n",
       "Hebbal             641.825572\n",
       "BTM Layout         638.807631\n",
       "Koramangala        615.080806\n",
       "Malleshwaram       597.983418\n",
       "HSR Layout         591.341806\n",
       "Name: Water_Usage_Per_Building, dtype: float64"
      ]
     },
     "execution_count": 54,
     "metadata": {},
     "output_type": "execute_result"
    }
   ],
   "source": [
    "#Which area or city has the highest average water usage per building?\n",
    "df.groupby('Area')['Water_Usage_Per_Building'].mean().sort_values(ascending=False)"
   ]
  },
  {
   "cell_type": "code",
   "execution_count": 62,
   "id": "8b0ec996",
   "metadata": {},
   "outputs": [
    {
     "data": {
      "text/html": [
       "<div>\n",
       "<style scoped>\n",
       "    .dataframe tbody tr th:only-of-type {\n",
       "        vertical-align: middle;\n",
       "    }\n",
       "\n",
       "    .dataframe tbody tr th {\n",
       "        vertical-align: top;\n",
       "    }\n",
       "\n",
       "    .dataframe thead th {\n",
       "        text-align: right;\n",
       "    }\n",
       "</style>\n",
       "<table border=\"1\" class=\"dataframe\">\n",
       "  <thead>\n",
       "    <tr style=\"text-align: right;\">\n",
       "      <th></th>\n",
       "      <th>City</th>\n",
       "      <th>Area</th>\n",
       "      <th>Building_Type</th>\n",
       "      <th>Construction_Year</th>\n",
       "      <th>Number_of_Floors</th>\n",
       "      <th>Energy_Consumption_Per_SqM</th>\n",
       "      <th>Water_Usage_Per_Building</th>\n",
       "      <th>Waste_Recycled_Percentage</th>\n",
       "      <th>Occupancy_Rate</th>\n",
       "      <th>Indoor_Air_Quality</th>\n",
       "      <th>Smart_Devices_Count</th>\n",
       "      <th>Green_Certified</th>\n",
       "      <th>Maintenance_Resolution_Time</th>\n",
       "      <th>Last_Inspection_Date</th>\n",
       "      <th>Building_Status</th>\n",
       "      <th>Maintenance_Priority</th>\n",
       "      <th>Energy_Per_SqM</th>\n",
       "      <th>Number_of_Residents</th>\n",
       "      <th>Electricity_Bill</th>\n",
       "    </tr>\n",
       "  </thead>\n",
       "  <tbody>\n",
       "    <tr>\n",
       "      <th>84</th>\n",
       "      <td>Bangalore</td>\n",
       "      <td>BTM Layout</td>\n",
       "      <td>Residential</td>\n",
       "      <td>1998</td>\n",
       "      <td>3</td>\n",
       "      <td>50.000000</td>\n",
       "      <td>1104.191993</td>\n",
       "      <td>32.976227</td>\n",
       "      <td>81.444291</td>\n",
       "      <td>32.251221</td>\n",
       "      <td>3</td>\n",
       "      <td>0</td>\n",
       "      <td>16.316698</td>\n",
       "      <td>02-05-2022</td>\n",
       "      <td>Closed</td>\n",
       "      <td>High</td>\n",
       "      <td>109.575320</td>\n",
       "      <td>316</td>\n",
       "      <td>10844.76076</td>\n",
       "    </tr>\n",
       "    <tr>\n",
       "      <th>98</th>\n",
       "      <td>Bangalore</td>\n",
       "      <td>Electronic City</td>\n",
       "      <td>Commercial</td>\n",
       "      <td>1990</td>\n",
       "      <td>4</td>\n",
       "      <td>50.000000</td>\n",
       "      <td>1318.219167</td>\n",
       "      <td>32.755877</td>\n",
       "      <td>91.490174</td>\n",
       "      <td>25.400252</td>\n",
       "      <td>2</td>\n",
       "      <td>1</td>\n",
       "      <td>10.563547</td>\n",
       "      <td>23-12-2022</td>\n",
       "      <td>Under Maintenance</td>\n",
       "      <td>High</td>\n",
       "      <td>150.255673</td>\n",
       "      <td>225</td>\n",
       "      <td>18895.14769</td>\n",
       "    </tr>\n",
       "    <tr>\n",
       "      <th>132</th>\n",
       "      <td>Bangalore</td>\n",
       "      <td>Indiranagar</td>\n",
       "      <td>Institutional</td>\n",
       "      <td>1985</td>\n",
       "      <td>7</td>\n",
       "      <td>50.000000</td>\n",
       "      <td>1046.147413</td>\n",
       "      <td>27.349371</td>\n",
       "      <td>83.965800</td>\n",
       "      <td>6.569735</td>\n",
       "      <td>4</td>\n",
       "      <td>1</td>\n",
       "      <td>9.190289</td>\n",
       "      <td>13-05-2023</td>\n",
       "      <td>Operational</td>\n",
       "      <td>Low</td>\n",
       "      <td>96.884814</td>\n",
       "      <td>391</td>\n",
       "      <td>14143.93748</td>\n",
       "    </tr>\n",
       "    <tr>\n",
       "      <th>175</th>\n",
       "      <td>Bangalore</td>\n",
       "      <td>Hebbal</td>\n",
       "      <td>Institutional</td>\n",
       "      <td>2020</td>\n",
       "      <td>1</td>\n",
       "      <td>50.000000</td>\n",
       "      <td>1006.741292</td>\n",
       "      <td>35.118909</td>\n",
       "      <td>92.152573</td>\n",
       "      <td>22.352869</td>\n",
       "      <td>3</td>\n",
       "      <td>0</td>\n",
       "      <td>5.729556</td>\n",
       "      <td>07-02-2022</td>\n",
       "      <td>Closed</td>\n",
       "      <td>Medium</td>\n",
       "      <td>191.359162</td>\n",
       "      <td>183</td>\n",
       "      <td>17548.89565</td>\n",
       "    </tr>\n",
       "    <tr>\n",
       "      <th>190</th>\n",
       "      <td>Bangalore</td>\n",
       "      <td>BTM Layout</td>\n",
       "      <td>Residential</td>\n",
       "      <td>2013</td>\n",
       "      <td>12</td>\n",
       "      <td>50.000000</td>\n",
       "      <td>1051.089117</td>\n",
       "      <td>34.712797</td>\n",
       "      <td>68.886322</td>\n",
       "      <td>69.847875</td>\n",
       "      <td>7</td>\n",
       "      <td>0</td>\n",
       "      <td>10.580592</td>\n",
       "      <td>05-06-2024</td>\n",
       "      <td>Under Maintenance</td>\n",
       "      <td>High</td>\n",
       "      <td>127.674252</td>\n",
       "      <td>44</td>\n",
       "      <td>13551.56414</td>\n",
       "    </tr>\n",
       "    <tr>\n",
       "      <th>...</th>\n",
       "      <td>...</td>\n",
       "      <td>...</td>\n",
       "      <td>...</td>\n",
       "      <td>...</td>\n",
       "      <td>...</td>\n",
       "      <td>...</td>\n",
       "      <td>...</td>\n",
       "      <td>...</td>\n",
       "      <td>...</td>\n",
       "      <td>...</td>\n",
       "      <td>...</td>\n",
       "      <td>...</td>\n",
       "      <td>...</td>\n",
       "      <td>...</td>\n",
       "      <td>...</td>\n",
       "      <td>...</td>\n",
       "      <td>...</td>\n",
       "      <td>...</td>\n",
       "      <td>...</td>\n",
       "    </tr>\n",
       "    <tr>\n",
       "      <th>1229</th>\n",
       "      <td>Bangalore</td>\n",
       "      <td>Jayanagar</td>\n",
       "      <td>Residential</td>\n",
       "      <td>1985</td>\n",
       "      <td>3</td>\n",
       "      <td>78.975686</td>\n",
       "      <td>1500.000000</td>\n",
       "      <td>26.323756</td>\n",
       "      <td>84.936415</td>\n",
       "      <td>12.776590</td>\n",
       "      <td>6</td>\n",
       "      <td>0</td>\n",
       "      <td>12.958022</td>\n",
       "      <td>05-11-2021</td>\n",
       "      <td>Operational</td>\n",
       "      <td>Medium</td>\n",
       "      <td>260.526150</td>\n",
       "      <td>13</td>\n",
       "      <td>25606.57965</td>\n",
       "    </tr>\n",
       "    <tr>\n",
       "      <th>1235</th>\n",
       "      <td>Bangalore</td>\n",
       "      <td>Whitefield</td>\n",
       "      <td>Commercial</td>\n",
       "      <td>1973</td>\n",
       "      <td>9</td>\n",
       "      <td>68.954858</td>\n",
       "      <td>1500.000000</td>\n",
       "      <td>29.184692</td>\n",
       "      <td>91.259841</td>\n",
       "      <td>100.000000</td>\n",
       "      <td>3</td>\n",
       "      <td>0</td>\n",
       "      <td>6.731696</td>\n",
       "      <td>02-06-2024</td>\n",
       "      <td>Under Maintenance</td>\n",
       "      <td>Medium</td>\n",
       "      <td>231.955840</td>\n",
       "      <td>287</td>\n",
       "      <td>25426.63900</td>\n",
       "    </tr>\n",
       "    <tr>\n",
       "      <th>1242</th>\n",
       "      <td>Bangalore</td>\n",
       "      <td>Jayanagar</td>\n",
       "      <td>Residential</td>\n",
       "      <td>2023</td>\n",
       "      <td>5</td>\n",
       "      <td>221.053807</td>\n",
       "      <td>1434.637029</td>\n",
       "      <td>26.051956</td>\n",
       "      <td>63.289863</td>\n",
       "      <td>1.399850</td>\n",
       "      <td>2</td>\n",
       "      <td>0</td>\n",
       "      <td>7.257654</td>\n",
       "      <td>16-06-2023</td>\n",
       "      <td>Under Maintenance</td>\n",
       "      <td>Low</td>\n",
       "      <td>120.915954</td>\n",
       "      <td>101</td>\n",
       "      <td>17144.11277</td>\n",
       "    </tr>\n",
       "    <tr>\n",
       "      <th>1247</th>\n",
       "      <td>Bangalore</td>\n",
       "      <td>Koramangala</td>\n",
       "      <td>Commercial</td>\n",
       "      <td>1990</td>\n",
       "      <td>1</td>\n",
       "      <td>50.000000</td>\n",
       "      <td>1500.000000</td>\n",
       "      <td>46.190167</td>\n",
       "      <td>94.054395</td>\n",
       "      <td>13.554989</td>\n",
       "      <td>1</td>\n",
       "      <td>0</td>\n",
       "      <td>6.761967</td>\n",
       "      <td>12-10-2022</td>\n",
       "      <td>Under Maintenance</td>\n",
       "      <td>Medium</td>\n",
       "      <td>111.501338</td>\n",
       "      <td>237</td>\n",
       "      <td>11618.17122</td>\n",
       "    </tr>\n",
       "    <tr>\n",
       "      <th>1248</th>\n",
       "      <td>Bangalore</td>\n",
       "      <td>Hebbal</td>\n",
       "      <td>Institutional</td>\n",
       "      <td>2021</td>\n",
       "      <td>6</td>\n",
       "      <td>250.000000</td>\n",
       "      <td>1500.000000</td>\n",
       "      <td>55.807260</td>\n",
       "      <td>67.780207</td>\n",
       "      <td>13.554989</td>\n",
       "      <td>6</td>\n",
       "      <td>0</td>\n",
       "      <td>14.147058</td>\n",
       "      <td>13-01-2022</td>\n",
       "      <td>Operational</td>\n",
       "      <td>Medium</td>\n",
       "      <td>161.689296</td>\n",
       "      <td>196</td>\n",
       "      <td>11732.24765</td>\n",
       "    </tr>\n",
       "  </tbody>\n",
       "</table>\n",
       "<p>186 rows × 19 columns</p>\n",
       "</div>"
      ],
      "text/plain": [
       "           City             Area  Building_Type  Construction_Year  \\\n",
       "84    Bangalore       BTM Layout    Residential               1998   \n",
       "98    Bangalore  Electronic City     Commercial               1990   \n",
       "132   Bangalore      Indiranagar  Institutional               1985   \n",
       "175   Bangalore           Hebbal  Institutional               2020   \n",
       "190   Bangalore       BTM Layout    Residential               2013   \n",
       "...         ...              ...            ...                ...   \n",
       "1229  Bangalore        Jayanagar    Residential               1985   \n",
       "1235  Bangalore       Whitefield     Commercial               1973   \n",
       "1242  Bangalore        Jayanagar    Residential               2023   \n",
       "1247  Bangalore      Koramangala     Commercial               1990   \n",
       "1248  Bangalore           Hebbal  Institutional               2021   \n",
       "\n",
       "      Number_of_Floors  Energy_Consumption_Per_SqM  Water_Usage_Per_Building  \\\n",
       "84                   3                   50.000000               1104.191993   \n",
       "98                   4                   50.000000               1318.219167   \n",
       "132                  7                   50.000000               1046.147413   \n",
       "175                  1                   50.000000               1006.741292   \n",
       "190                 12                   50.000000               1051.089117   \n",
       "...                ...                         ...                       ...   \n",
       "1229                 3                   78.975686               1500.000000   \n",
       "1235                 9                   68.954858               1500.000000   \n",
       "1242                 5                  221.053807               1434.637029   \n",
       "1247                 1                   50.000000               1500.000000   \n",
       "1248                 6                  250.000000               1500.000000   \n",
       "\n",
       "      Waste_Recycled_Percentage  Occupancy_Rate  Indoor_Air_Quality  \\\n",
       "84                    32.976227       81.444291           32.251221   \n",
       "98                    32.755877       91.490174           25.400252   \n",
       "132                   27.349371       83.965800            6.569735   \n",
       "175                   35.118909       92.152573           22.352869   \n",
       "190                   34.712797       68.886322           69.847875   \n",
       "...                         ...             ...                 ...   \n",
       "1229                  26.323756       84.936415           12.776590   \n",
       "1235                  29.184692       91.259841          100.000000   \n",
       "1242                  26.051956       63.289863            1.399850   \n",
       "1247                  46.190167       94.054395           13.554989   \n",
       "1248                  55.807260       67.780207           13.554989   \n",
       "\n",
       "      Smart_Devices_Count  Green_Certified  Maintenance_Resolution_Time  \\\n",
       "84                      3                0                    16.316698   \n",
       "98                      2                1                    10.563547   \n",
       "132                     4                1                     9.190289   \n",
       "175                     3                0                     5.729556   \n",
       "190                     7                0                    10.580592   \n",
       "...                   ...              ...                          ...   \n",
       "1229                    6                0                    12.958022   \n",
       "1235                    3                0                     6.731696   \n",
       "1242                    2                0                     7.257654   \n",
       "1247                    1                0                     6.761967   \n",
       "1248                    6                0                    14.147058   \n",
       "\n",
       "     Last_Inspection_Date    Building_Status Maintenance_Priority  \\\n",
       "84             02-05-2022             Closed                 High   \n",
       "98             23-12-2022  Under Maintenance                 High   \n",
       "132            13-05-2023        Operational                  Low   \n",
       "175            07-02-2022             Closed               Medium   \n",
       "190            05-06-2024  Under Maintenance                 High   \n",
       "...                   ...                ...                  ...   \n",
       "1229           05-11-2021        Operational               Medium   \n",
       "1235           02-06-2024  Under Maintenance               Medium   \n",
       "1242           16-06-2023  Under Maintenance                  Low   \n",
       "1247           12-10-2022  Under Maintenance               Medium   \n",
       "1248           13-01-2022        Operational               Medium   \n",
       "\n",
       "      Energy_Per_SqM  Number_of_Residents  Electricity_Bill  \n",
       "84        109.575320                  316       10844.76076  \n",
       "98        150.255673                  225       18895.14769  \n",
       "132        96.884814                  391       14143.93748  \n",
       "175       191.359162                  183       17548.89565  \n",
       "190       127.674252                   44       13551.56414  \n",
       "...              ...                  ...               ...  \n",
       "1229      260.526150                   13       25606.57965  \n",
       "1235      231.955840                  287       25426.63900  \n",
       "1242      120.915954                  101       17144.11277  \n",
       "1247      111.501338                  237       11618.17122  \n",
       "1248      161.689296                  196       11732.24765  \n",
       "\n",
       "[186 rows x 19 columns]"
      ]
     },
     "execution_count": 62,
     "metadata": {},
     "output_type": "execute_result"
    }
   ],
   "source": [
    "#How many buildings have low recycling % but high water usage?\n",
    "df[(df['Waste_Recycled_Percentage']>25) & (df['Water_Usage_Per_Building']>1000)]"
   ]
  },
  {
   "cell_type": "markdown",
   "id": "cf2df451",
   "metadata": {},
   "source": [
    "residentals have low recycling % with 27%"
   ]
  },
  {
   "cell_type": "code",
   "execution_count": 56,
   "id": "1b56dc6e",
   "metadata": {},
   "outputs": [
    {
     "data": {
      "text/plain": [
       "Building_Type\n",
       "Industrial       666.554977\n",
       "Institutional    664.578828\n",
       "Commercial       651.088089\n",
       "Residential      603.705156\n",
       "Name: Water_Usage_Per_Building, dtype: float64"
      ]
     },
     "execution_count": 56,
     "metadata": {},
     "output_type": "execute_result"
    }
   ],
   "source": [
    "df.groupby('Building_Type')['Water_Usage_Per_Building'].mean().sort_values(ascending=False)"
   ]
  },
  {
   "cell_type": "code",
   "execution_count": 77,
   "id": "6c8d7d4b",
   "metadata": {},
   "outputs": [
    {
     "data": {
      "text/plain": [
       "Green_Certified\n",
       "0    649.391354\n",
       "1    639.415774\n",
       "Name: Water_Usage_Per_Building, dtype: float64"
      ]
     },
     "execution_count": 77,
     "metadata": {},
     "output_type": "execute_result"
    }
   ],
   "source": [
    "#Do green-certified buildings use less water on average?\n",
    "df.groupby('Green_Certified')['Water_Usage_Per_Building'].mean()"
   ]
  },
  {
   "cell_type": "markdown",
   "id": "224c5658",
   "metadata": {},
   "source": [
    "yes green certified buildings use less water on average "
   ]
  },
  {
   "cell_type": "code",
   "execution_count": 66,
   "id": "7e9b1f65",
   "metadata": {},
   "outputs": [
    {
     "data": {
      "text/plain": [
       "Index(['City', 'Area', 'Building_Type', 'Construction_Year',\n",
       "       'Number_of_Floors', 'Energy_Consumption_Per_SqM',\n",
       "       'Water_Usage_Per_Building', 'Waste_Recycled_Percentage',\n",
       "       'Occupancy_Rate', 'Indoor_Air_Quality', 'Smart_Devices_Count',\n",
       "       'Green_Certified', 'Maintenance_Resolution_Time',\n",
       "       'Last_Inspection_Date', 'Building_Status', 'Maintenance_Priority',\n",
       "       'Energy_Per_SqM', 'Number_of_Residents', 'Electricity_Bill'],\n",
       "      dtype='object')"
      ]
     },
     "execution_count": 66,
     "metadata": {},
     "output_type": "execute_result"
    }
   ],
   "source": [
    "df.columns"
   ]
  },
  {
   "cell_type": "code",
   "execution_count": 67,
   "id": "a82b92c0",
   "metadata": {},
   "outputs": [
    {
     "data": {
      "text/plain": [
       "np.float64(0.013211680464648686)"
      ]
     },
     "execution_count": 67,
     "metadata": {},
     "output_type": "execute_result"
    }
   ],
   "source": [
    "#Do buildings with smart devices use less water?\n",
    "df['Smart_Devices_Count'].corr(df['Water_Usage_Per_Building'])\n"
   ]
  },
  {
   "cell_type": "markdown",
   "id": "405808e6",
   "metadata": {},
   "source": [
    "no relationship "
   ]
  },
  {
   "cell_type": "code",
   "execution_count": 73,
   "id": "000ab7ce",
   "metadata": {},
   "outputs": [
    {
     "data": {
      "text/plain": [
       "Area\n",
       "Koramangala        30.748784\n",
       "Banashankari       30.256716\n",
       "Electronic City    29.656889\n",
       "Indiranagar        29.320065\n",
       "Malleshwaram       29.053336\n",
       "Jayanagar          28.942985\n",
       "BTM Layout         28.394275\n",
       "Whitefield         28.343677\n",
       "HSR Layout         28.051478\n",
       "Yelahanka          27.863425\n",
       "Hebbal             26.889403\n",
       "Name: Waste_Recycled_Percentage, dtype: float64"
      ]
     },
     "execution_count": 73,
     "metadata": {},
     "output_type": "execute_result"
    }
   ],
   "source": [
    "#Compare recycling percentages across area — which area performs best in waste recycling?\n",
    "df.groupby('Area')['Waste_Recycled_Percentage'].mean().sort_values(ascending=False)\n"
   ]
  },
  {
   "cell_type": "markdown",
   "id": "8d3152ee",
   "metadata": {},
   "source": [
    "Koramangala layout has the best recycling management "
   ]
  },
  {
   "cell_type": "code",
   "execution_count": 75,
   "id": "63ee4f5d",
   "metadata": {},
   "outputs": [
    {
     "name": "stderr",
     "output_type": "stream",
     "text": [
      "C:\\Users\\KIIT\\AppData\\Local\\Temp\\ipykernel_38672\\2408693007.py:7: FutureWarning: \n",
      "\n",
      "Passing `palette` without assigning `hue` is deprecated and will be removed in v0.14.0. Assign the `x` variable to `hue` and set `legend=False` for the same effect.\n",
      "\n",
      "  sns.barplot(x=Area_recycling.index, y=Area_recycling.values, palette=\"Greens\")\n"
     ]
    },
    {
     "data": {
      "image/png": "[encoded data removed]",
      "text/plain": [
       "<Figure size 1000x500 with 1 Axes>"
      ]
     },
     "metadata": {},
     "output_type": "display_data"
    }
   ],
   "source": [
    "import seaborn as sns\n",
    "import matplotlib.pyplot as plt\n",
    "\n",
    "Area_recycling = df.groupby('Area')['Waste_Recycled_Percentage'].mean().sort_values(ascending=False)\n",
    "\n",
    "plt.figure(figsize=(10, 5))\n",
    "sns.barplot(x=Area_recycling.index, y=Area_recycling.values, palette=\"Greens\")\n",
    "plt.title(\"Average Waste Recycling Percentage by Area\")\n",
    "plt.ylabel(\"Avg Recycling %\")\n",
    "plt.xticks(rotation=90)\n",
    "plt.show()\n"
   ]
  },
  {
   "cell_type": "markdown",
   "id": "0af9a22c",
   "metadata": {},
   "source": [
    "# Air Quality & Smart Devices"
   ]
  },
  {
   "cell_type": "code",
   "execution_count": 76,
   "id": "1bf29167",
   "metadata": {},
   "outputs": [
    {
     "data": {
      "text/plain": [
       "Building_Type\n",
       "Commercial       39.442777\n",
       "Industrial       40.862564\n",
       "Institutional    41.150808\n",
       "Residential      40.561084\n",
       "Name: Indoor_Air_Quality, dtype: float64"
      ]
     },
     "execution_count": 76,
     "metadata": {},
     "output_type": "execute_result"
    }
   ],
   "source": [
    "#Which buildings have the best and worst indoor air quality?\n",
    "df.groupby('Building_Type')['Indoor_Air_Quality'].mean()"
   ]
  },
  {
   "cell_type": "markdown",
   "id": "5c8ee62f",
   "metadata": {},
   "source": [
    "Institutional buildings (like schools, hospitals) have the best average indoor air quality.\n",
    "\n",
    "Commercial buildings (like offices or shops) have the lowest air quality on average.\n",
    "\n",
    "\n"
   ]
  },
  {
   "cell_type": "code",
   "execution_count": 78,
   "id": "a77aefd2",
   "metadata": {},
   "outputs": [
    {
     "data": {
      "text/plain": [
       "np.float64(-0.03690880681244144)"
      ]
     },
     "execution_count": 78,
     "metadata": {},
     "output_type": "execute_result"
    }
   ],
   "source": [
    "#Does having more smart devices improve indoor air quality or energy efficiency?\n",
    "df['Smart_Devices_Count'].corr(df['Indoor_Air_Quality'])\n"
   ]
  },
  {
   "cell_type": "code",
   "execution_count": 79,
   "id": "cd4af9d6",
   "metadata": {},
   "outputs": [
    {
     "data": {
      "text/plain": [
       "np.float64(0.04016771035138689)"
      ]
     },
     "execution_count": 79,
     "metadata": {},
     "output_type": "execute_result"
    }
   ],
   "source": [
    "df['Smart_Devices_Count'].corr(df['Energy_Per_SqM'])"
   ]
  },
  {
   "cell_type": "code",
   "execution_count": 81,
   "id": "c199a6c0",
   "metadata": {},
   "outputs": [
    {
     "data": {
      "text/plain": [
       "Green_Certified\n",
       "0    5.261280\n",
       "1    5.188552\n",
       "Name: Smart_Devices_Count, dtype: float64"
      ]
     },
     "execution_count": 81,
     "metadata": {},
     "output_type": "execute_result"
    }
   ],
   "source": [
    "#What’s the average number of smart devices in green certified vs. non-certified buildings?\n",
    "df.groupby('Green_Certified')['Smart_Devices_Count'].mean()"
   ]
  },
  {
   "cell_type": "code",
   "execution_count": 82,
   "id": "f3ececee",
   "metadata": {},
   "outputs": [
    {
     "name": "stderr",
     "output_type": "stream",
     "text": [
      "C:\\Users\\KIIT\\AppData\\Local\\Temp\\ipykernel_38672\\173676371.py:5: FutureWarning: \n",
      "\n",
      "Passing `palette` without assigning `hue` is deprecated and will be removed in v0.14.0. Assign the `x` variable to `hue` and set `legend=False` for the same effect.\n",
      "\n",
      "  sns.barplot(data=smart_devices_by_cert, x='Green_Certified', y='Smart_Devices_Count', palette='viridis')\n"
     ]
    },
    {
     "data": {
      "image/png": "[encoded data removed]",
      "text/plain": [
       "<Figure size 600x400 with 1 Axes>"
      ]
     },
     "metadata": {},
     "output_type": "display_data"
    }
   ],
   "source": [
    "smart_devices_by_cert = df.groupby('Green_Certified')['Smart_Devices_Count'].mean().reset_index()\n",
    "\n",
    "plt.figure(figsize=(6, 4))\n",
    "sns.barplot(data=smart_devices_by_cert, x='Green_Certified', y='Smart_Devices_Count', palette='viridis')\n",
    "plt.title('Average Number of Smart Devices\\nGreen Certified vs Non-Certified Buildings')\n",
    "plt.ylabel('Avg. Smart Devices Count')\n",
    "plt.xlabel('Green Certified')\n",
    "plt.grid(True, axis='y')\n",
    "plt.show()\n"
   ]
  },
  {
   "cell_type": "markdown",
   "id": "1e290552",
   "metadata": {},
   "source": [
    "# Maintenance Analysis\n",
    "\n"
   ]
  },
  {
   "cell_type": "code",
   "execution_count": 84,
   "id": "8754fa02",
   "metadata": {},
   "outputs": [
    {
     "data": {
      "text/plain": [
       "Building_Type\n",
       "Commercial       10.052097\n",
       "Industrial        9.225350\n",
       "Institutional     9.595076\n",
       "Residential       9.631239\n",
       "Name: Maintenance_Resolution_Time, dtype: float64"
      ]
     },
     "execution_count": 84,
     "metadata": {},
     "output_type": "execute_result"
    }
   ],
   "source": [
    "#What’s the average maintenance resolution time by building type?\n",
    "df.groupby('Building_Type')['Maintenance_Resolution_Time'].mean()"
   ]
  },
  {
   "cell_type": "code",
   "execution_count": 88,
   "id": "2bfdf369",
   "metadata": {},
   "outputs": [],
   "source": [
    "#Do buildings with high Maintenance_Priority also have high energy use?\n"
   ]
  },
  {
   "cell_type": "code",
   "execution_count": 87,
   "id": "07fe4f14",
   "metadata": {},
   "outputs": [
    {
     "data": {
      "image/png": "[encoded data removed]",
      "text/plain": [
       "<Figure size 640x480 with 1 Axes>"
      ]
     },
     "metadata": {},
     "output_type": "display_data"
    }
   ],
   "source": [
    "sns.boxplot(x='Maintenance_Priority', y='Energy_Consumption_Per_SqM', data=df)\n",
    "plt.title(\"Energy Consumption vs Maintenance Priority\")\n",
    "plt.xlabel(\"Maintenance Priority\")\n",
    "plt.ylabel(\"Energy Consumption (Per SqM)\")\n",
    "plt.grid(True)\n",
    "plt.show()\n"
   ]
  },
  {
   "cell_type": "markdown",
   "id": "be8cd3f1",
   "metadata": {},
   "source": [
    "yes high maintenance priority has higher energy consumption as compared to medium and low "
   ]
  },
  {
   "cell_type": "code",
   "execution_count": null,
   "id": "c937d9b5",
   "metadata": {},
   "outputs": [],
   "source": []
  },
  {
   "cell_type": "code",
   "execution_count": null,
   "id": "ccda4cc1",
   "metadata": {},
   "outputs": [],
   "source": []
  }
 ],
 "metadata": {
  "kernelspec": {
   "display_name": "Python (tf_env)",
   "language": "python",
   "name": "tf_env"
  },
  "language_info": {
   "codemirror_mode": {
    "name": "ipython",
    "version": 3
   },
   "file_extension": ".py",
   "mimetype": "text/x-python",
   "name": "python",
   "nbconvert_exporter": "python",
   "pygments_lexer": "ipython3",
   "version": "3.10.16"
  }
 },
 "nbformat": 4,
 "nbformat_minor": 5
}
